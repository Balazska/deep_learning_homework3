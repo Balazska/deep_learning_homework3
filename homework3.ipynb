{
 "cells": [
  {
   "cell_type": "code",
   "execution_count": 1,
   "metadata": {},
   "outputs": [],
   "source": [
    "import tensorflow as tf\n",
    "from tensorflow.keras.layers import Dense,Dropout,Activation\n",
    "from tensorflow.keras.models import Sequential"
   ]
  },
  {
   "cell_type": "code",
   "execution_count": 2,
   "metadata": {},
   "outputs": [],
   "source": [
    "import pandas as pd\n",
    "import numpy as np"
   ]
  },
  {
   "cell_type": "markdown",
   "metadata": {},
   "source": [
    "# Homework 3\n",
    "Data from http://idojarasbudapest.hu/archivalt-idojaras\n",
    "\n",
    "Daily weather information collected from 2017-01-01 to 2020-10-24\n",
    "\n",
    "## Approach\n",
    "* Train one model that can predict temperature for any given date"
   ]
  },
  {
   "cell_type": "markdown",
   "metadata": {},
   "source": [
    "## Data preparation\n",
    "\n",
    "[data.txt](./data.txt) contains the raw data I collected from the website\n",
    "\n",
    "[data.csv](./data.csv) contains the data in tab separated format"
   ]
  },
  {
   "cell_type": "code",
   "execution_count": 3,
   "metadata": {},
   "outputs": [],
   "source": [
    "# convert data.txt to tab separated format\n",
    "# DO NOT NEED TO RUN\n",
    "lines = []\n",
    "with open(\"data.txt\") as raw:\n",
    "    line = raw.readline()\n",
    "    while line:\n",
    "        lines.append((line + raw.readline()).replace(\"\\n\",\"\\t\",1))\n",
    "        line = raw.readline()\n",
    "with open(\"data.csv\",\"w\") as csv:\n",
    "    csv.write(\"Day\\tTmax\\tTmin\\tWind[m/s]\\tRain[mm]\\n\")\n",
    "    csv.writelines(lines)"
   ]
  },
  {
   "cell_type": "code",
   "execution_count": 4,
   "metadata": {},
   "outputs": [],
   "source": [
    "# Read the data from the csv\n",
    "df = pd.read_csv('./data.csv',sep='\\t')"
   ]
  },
  {
   "cell_type": "markdown",
   "metadata": {},
   "source": [
    "Columns:\n",
    "* Day: name of the day\n",
    "* Tmax: max temperature of the day\n",
    "* Tmin: min temperature of the day\n",
    "* Wind: wind speed\n",
    "* Rain: amount of rain in mm - in the dataset it stores different value in the earlier dates"
   ]
  },
  {
   "cell_type": "code",
   "execution_count": 5,
   "metadata": {},
   "outputs": [
    {
     "data": {
      "text/html": [
       "<div>\n",
       "<style scoped>\n",
       "    .dataframe tbody tr th:only-of-type {\n",
       "        vertical-align: middle;\n",
       "    }\n",
       "\n",
       "    .dataframe tbody tr th {\n",
       "        vertical-align: top;\n",
       "    }\n",
       "\n",
       "    .dataframe thead th {\n",
       "        text-align: right;\n",
       "    }\n",
       "</style>\n",
       "<table border=\"1\" class=\"dataframe\">\n",
       "  <thead>\n",
       "    <tr style=\"text-align: right;\">\n",
       "      <th></th>\n",
       "      <th>Day</th>\n",
       "      <th>Tmax</th>\n",
       "      <th>Tmin</th>\n",
       "      <th>Wind[m/s]</th>\n",
       "      <th>Rain[mm]</th>\n",
       "    </tr>\n",
       "  </thead>\n",
       "  <tbody>\n",
       "    <tr>\n",
       "      <th>2017.01.01</th>\n",
       "      <td>vasárnap</td>\n",
       "      <td>4.0</td>\n",
       "      <td>-5.0</td>\n",
       "      <td>1.7</td>\n",
       "      <td>Napos</td>\n",
       "    </tr>\n",
       "    <tr>\n",
       "      <th>2017.01.02</th>\n",
       "      <td>hétfő</td>\n",
       "      <td>3.0</td>\n",
       "      <td>-2.0</td>\n",
       "      <td>2.2</td>\n",
       "      <td>Napos</td>\n",
       "    </tr>\n",
       "    <tr>\n",
       "      <th>2017.01.03</th>\n",
       "      <td>kedd</td>\n",
       "      <td>2.0</td>\n",
       "      <td>-3.0</td>\n",
       "      <td>5.0</td>\n",
       "      <td>Napos</td>\n",
       "    </tr>\n",
       "    <tr>\n",
       "      <th>2017.01.04</th>\n",
       "      <td>szerda</td>\n",
       "      <td>2.0</td>\n",
       "      <td>-2.0</td>\n",
       "      <td>5.8</td>\n",
       "      <td>Nehéz hó</td>\n",
       "    </tr>\n",
       "    <tr>\n",
       "      <th>2017.01.05</th>\n",
       "      <td>csütörtök</td>\n",
       "      <td>0.0</td>\n",
       "      <td>-8.0</td>\n",
       "      <td>6.7</td>\n",
       "      <td>Napos</td>\n",
       "    </tr>\n",
       "  </tbody>\n",
       "</table>\n",
       "</div>"
      ],
      "text/plain": [
       "                  Day  Tmax  Tmin  Wind[m/s]  Rain[mm]\n",
       "2017.01.01   vasárnap   4.0  -5.0        1.7     Napos\n",
       "2017.01.02      hétfő   3.0  -2.0        2.2     Napos\n",
       "2017.01.03       kedd   2.0  -3.0        5.0     Napos\n",
       "2017.01.04     szerda   2.0  -2.0        5.8  Nehéz hó\n",
       "2017.01.05  csütörtök   0.0  -8.0        6.7     Napos"
      ]
     },
     "execution_count": 5,
     "metadata": {},
     "output_type": "execute_result"
    }
   ],
   "source": [
    "df.head()"
   ]
  },
  {
   "cell_type": "code",
   "execution_count": 6,
   "metadata": {},
   "outputs": [
    {
     "data": {
      "text/html": [
       "<div>\n",
       "<style scoped>\n",
       "    .dataframe tbody tr th:only-of-type {\n",
       "        vertical-align: middle;\n",
       "    }\n",
       "\n",
       "    .dataframe tbody tr th {\n",
       "        vertical-align: top;\n",
       "    }\n",
       "\n",
       "    .dataframe thead th {\n",
       "        text-align: right;\n",
       "    }\n",
       "</style>\n",
       "<table border=\"1\" class=\"dataframe\">\n",
       "  <thead>\n",
       "    <tr style=\"text-align: right;\">\n",
       "      <th></th>\n",
       "      <th>Day</th>\n",
       "      <th>Tmax</th>\n",
       "      <th>Tmin</th>\n",
       "      <th>Wind[m/s]</th>\n",
       "      <th>Rain[mm]</th>\n",
       "    </tr>\n",
       "  </thead>\n",
       "  <tbody>\n",
       "    <tr>\n",
       "      <th>2020.10.19</th>\n",
       "      <td>hétfő</td>\n",
       "      <td>14.1</td>\n",
       "      <td>8.0</td>\n",
       "      <td>2.8</td>\n",
       "      <td>0</td>\n",
       "    </tr>\n",
       "    <tr>\n",
       "      <th>2020.10.20</th>\n",
       "      <td>kedd</td>\n",
       "      <td>14.8</td>\n",
       "      <td>9.6</td>\n",
       "      <td>4.0</td>\n",
       "      <td>0</td>\n",
       "    </tr>\n",
       "    <tr>\n",
       "      <th>2020.10.21</th>\n",
       "      <td>szerda</td>\n",
       "      <td>16.6</td>\n",
       "      <td>8.9</td>\n",
       "      <td>4.2</td>\n",
       "      <td>0</td>\n",
       "    </tr>\n",
       "    <tr>\n",
       "      <th>2020.10.22</th>\n",
       "      <td>csütörtök</td>\n",
       "      <td>15.7</td>\n",
       "      <td>10.3</td>\n",
       "      <td>3.2</td>\n",
       "      <td>0</td>\n",
       "    </tr>\n",
       "    <tr>\n",
       "      <th>2020.10.23</th>\n",
       "      <td>péntek</td>\n",
       "      <td>16.4</td>\n",
       "      <td>10.8</td>\n",
       "      <td>1.8</td>\n",
       "      <td>0</td>\n",
       "    </tr>\n",
       "  </tbody>\n",
       "</table>\n",
       "</div>"
      ],
      "text/plain": [
       "                  Day  Tmax  Tmin  Wind[m/s] Rain[mm]\n",
       "2020.10.19      hétfő  14.1   8.0        2.8        0\n",
       "2020.10.20       kedd  14.8   9.6        4.0        0\n",
       "2020.10.21     szerda  16.6   8.9        4.2        0\n",
       "2020.10.22  csütörtök  15.7  10.3        3.2        0\n",
       "2020.10.23     péntek  16.4  10.8        1.8        0"
      ]
     },
     "execution_count": 6,
     "metadata": {},
     "output_type": "execute_result"
    }
   ],
   "source": [
    "df.tail()"
   ]
  },
  {
   "cell_type": "markdown",
   "metadata": {},
   "source": [
    "Create important features for training:\n",
    "\n",
    "* Tavg: daily average temperature - this is the target variable\n",
    "* Year\n",
    "* Month\n",
    "* Day0: day of the month\n",
    "* DoY: day of the year (from 1 to 366)\n",
    "* WoY: week of the year (from 1 to 52)"
   ]
  },
  {
   "cell_type": "code",
   "execution_count": 7,
   "metadata": {},
   "outputs": [],
   "source": [
    "df[\"Tavg\"] = (df.Tmax+df.Tmin)/2\n",
    "df[\"Day\"] = df.index\n",
    "df[\"Day_period\"] = df[\"Day\"].apply(lambda day: pd.Period(day))\n",
    "\n",
    "df[\"Year\"] = df[\"Day\"].apply(lambda date: int(date.split(\".\")[0]))\n",
    "df[\"Month\"] = df[\"Day\"].apply(lambda date: int(date.split(\".\")[1]))\n",
    "df[\"Day0\"] = df[\"Day\"].apply(lambda date: int(date.split(\".\")[2]))\n",
    "df[\"DoY\"] = df[\"Day_period\"].apply(lambda period: period.dayofyear)\n",
    "df[\"WoY\"] = df[\"Day_period\"].apply(lambda period: period.week)"
   ]
  },
  {
   "cell_type": "code",
   "execution_count": 8,
   "metadata": {},
   "outputs": [
    {
     "data": {
      "text/html": [
       "<div>\n",
       "<style scoped>\n",
       "    .dataframe tbody tr th:only-of-type {\n",
       "        vertical-align: middle;\n",
       "    }\n",
       "\n",
       "    .dataframe tbody tr th {\n",
       "        vertical-align: top;\n",
       "    }\n",
       "\n",
       "    .dataframe thead th {\n",
       "        text-align: right;\n",
       "    }\n",
       "</style>\n",
       "<table border=\"1\" class=\"dataframe\">\n",
       "  <thead>\n",
       "    <tr style=\"text-align: right;\">\n",
       "      <th></th>\n",
       "      <th>Day</th>\n",
       "      <th>Tmax</th>\n",
       "      <th>Tmin</th>\n",
       "      <th>Wind[m/s]</th>\n",
       "      <th>Rain[mm]</th>\n",
       "      <th>Tavg</th>\n",
       "      <th>Day_period</th>\n",
       "      <th>Year</th>\n",
       "      <th>Month</th>\n",
       "      <th>Day0</th>\n",
       "      <th>DoY</th>\n",
       "      <th>WoY</th>\n",
       "    </tr>\n",
       "  </thead>\n",
       "  <tbody>\n",
       "    <tr>\n",
       "      <th>2017.01.01</th>\n",
       "      <td>2017.01.01</td>\n",
       "      <td>4.0</td>\n",
       "      <td>-5.0</td>\n",
       "      <td>1.7</td>\n",
       "      <td>Napos</td>\n",
       "      <td>-0.5</td>\n",
       "      <td>2017-01-01</td>\n",
       "      <td>2017</td>\n",
       "      <td>1</td>\n",
       "      <td>1</td>\n",
       "      <td>1</td>\n",
       "      <td>52</td>\n",
       "    </tr>\n",
       "    <tr>\n",
       "      <th>2017.01.02</th>\n",
       "      <td>2017.01.02</td>\n",
       "      <td>3.0</td>\n",
       "      <td>-2.0</td>\n",
       "      <td>2.2</td>\n",
       "      <td>Napos</td>\n",
       "      <td>0.5</td>\n",
       "      <td>2017-01-02</td>\n",
       "      <td>2017</td>\n",
       "      <td>1</td>\n",
       "      <td>2</td>\n",
       "      <td>2</td>\n",
       "      <td>1</td>\n",
       "    </tr>\n",
       "    <tr>\n",
       "      <th>2017.01.03</th>\n",
       "      <td>2017.01.03</td>\n",
       "      <td>2.0</td>\n",
       "      <td>-3.0</td>\n",
       "      <td>5.0</td>\n",
       "      <td>Napos</td>\n",
       "      <td>-0.5</td>\n",
       "      <td>2017-01-03</td>\n",
       "      <td>2017</td>\n",
       "      <td>1</td>\n",
       "      <td>3</td>\n",
       "      <td>3</td>\n",
       "      <td>1</td>\n",
       "    </tr>\n",
       "    <tr>\n",
       "      <th>2017.01.04</th>\n",
       "      <td>2017.01.04</td>\n",
       "      <td>2.0</td>\n",
       "      <td>-2.0</td>\n",
       "      <td>5.8</td>\n",
       "      <td>Nehéz hó</td>\n",
       "      <td>0.0</td>\n",
       "      <td>2017-01-04</td>\n",
       "      <td>2017</td>\n",
       "      <td>1</td>\n",
       "      <td>4</td>\n",
       "      <td>4</td>\n",
       "      <td>1</td>\n",
       "    </tr>\n",
       "    <tr>\n",
       "      <th>2017.01.05</th>\n",
       "      <td>2017.01.05</td>\n",
       "      <td>0.0</td>\n",
       "      <td>-8.0</td>\n",
       "      <td>6.7</td>\n",
       "      <td>Napos</td>\n",
       "      <td>-4.0</td>\n",
       "      <td>2017-01-05</td>\n",
       "      <td>2017</td>\n",
       "      <td>1</td>\n",
       "      <td>5</td>\n",
       "      <td>5</td>\n",
       "      <td>1</td>\n",
       "    </tr>\n",
       "  </tbody>\n",
       "</table>\n",
       "</div>"
      ],
      "text/plain": [
       "                   Day  Tmax  Tmin  Wind[m/s]  Rain[mm]  Tavg  Day_period  \\\n",
       "2017.01.01  2017.01.01   4.0  -5.0        1.7     Napos  -0.5  2017-01-01   \n",
       "2017.01.02  2017.01.02   3.0  -2.0        2.2     Napos   0.5  2017-01-02   \n",
       "2017.01.03  2017.01.03   2.0  -3.0        5.0     Napos  -0.5  2017-01-03   \n",
       "2017.01.04  2017.01.04   2.0  -2.0        5.8  Nehéz hó   0.0  2017-01-04   \n",
       "2017.01.05  2017.01.05   0.0  -8.0        6.7     Napos  -4.0  2017-01-05   \n",
       "\n",
       "            Year  Month  Day0  DoY  WoY  \n",
       "2017.01.01  2017      1     1    1   52  \n",
       "2017.01.02  2017      1     2    2    1  \n",
       "2017.01.03  2017      1     3    3    1  \n",
       "2017.01.04  2017      1     4    4    1  \n",
       "2017.01.05  2017      1     5    5    1  "
      ]
     },
     "execution_count": 8,
     "metadata": {},
     "output_type": "execute_result"
    }
   ],
   "source": [
    "# example of the newly created features\n",
    "df.head()"
   ]
  },
  {
   "cell_type": "code",
   "execution_count": 9,
   "metadata": {},
   "outputs": [],
   "source": [
    "#features and target for daily prediction\n",
    "features = [\"Year\",\"WoY\",\"DoY\"]\n",
    "target = \"Tavg\""
   ]
  },
  {
   "cell_type": "code",
   "execution_count": 10,
   "metadata": {},
   "outputs": [],
   "source": [
    "# normalization of the data\n",
    "df[\"Year\"]=df[\"Year\"]/2020.0\n",
    "df[\"WoY\"]=df[\"WoY\"]/52.0\n",
    "df[\"DoY\"]=df[\"DoY\"]/366.0\n",
    "df[\"Month\"] = df[\"Month\"]/12"
   ]
  },
  {
   "cell_type": "code",
   "execution_count": 11,
   "metadata": {},
   "outputs": [],
   "source": [
    "from sklearn.model_selection import train_test_split\n",
    "from sklearn.preprocessing import MinMaxScaler\n",
    "from sklearn.utils import shuffle"
   ]
  },
  {
   "cell_type": "code",
   "execution_count": 12,
   "metadata": {},
   "outputs": [],
   "source": [
    "def train_valid_test_split(df,features,target):\n",
    "    \"\"\"\n",
    "    Split df to train, valid and test data considering the following:\n",
    "    \n",
    "    - X_test should contain the latest dates to test the prediction capability for the future\n",
    "    - X_valid should contain random data to test the prediction for different dates in different seasons etc.\n",
    "    \n",
    "    - returns: train test and validation dataset with training data and labels\n",
    "    \"\"\"\n",
    "    X_train,X_test,Y_train,Y_test = train_test_split(df[features],df[target],test_size=0.05,shuffle=False)\n",
    "    X_train,X_valid,Y_train,Y_valid = train_test_split(X_train,Y_train,test_size=0.1,random_state=42)\n",
    "    X_index=None\n",
    "    try:\n",
    "        # creates a date index for the test dataset (for plotting) - only for daily prediction\n",
    "        X_index = pd.to_datetime(X_test.index)\n",
    "    except:\n",
    "        pass\n",
    "    X_test = X_test.values\n",
    "    Y_test = Y_test.values\n",
    "\n",
    "    X_train = X_train.values\n",
    "    Y_train = Y_train.values\n",
    "\n",
    "    X_valid = X_valid.values\n",
    "    Y_valid = Y_valid.values\n",
    "    return X_train,X_valid,X_test,Y_train,Y_valid,Y_test,X_index"
   ]
  },
  {
   "cell_type": "code",
   "execution_count": 13,
   "metadata": {},
   "outputs": [],
   "source": [
    "# create training and test data\n",
    "X_train,X_valid,X_test,Y_train,Y_valid,Y_test,X_index = train_valid_test_split(df,features,target)"
   ]
  },
  {
   "cell_type": "code",
   "execution_count": 14,
   "metadata": {},
   "outputs": [],
   "source": [
    "from tensorflow.keras import regularizers\n",
    "from tensorflow.keras.callbacks import EarlyStopping"
   ]
  },
  {
   "cell_type": "code",
   "execution_count": 15,
   "metadata": {},
   "outputs": [],
   "source": [
    "# create and early stopping instance\n",
    "es = EarlyStopping(\n",
    "    monitor=\"val_loss\",\n",
    "    patience=5,\n",
    "    verbose=1,\n",
    "    mode=\"auto\",\n",
    "    baseline=None,\n",
    "    restore_best_weights=True,\n",
    ")"
   ]
  },
  {
   "cell_type": "markdown",
   "metadata": {},
   "source": [
    "## Model"
   ]
  },
  {
   "cell_type": "code",
   "execution_count": 16,
   "metadata": {},
   "outputs": [],
   "source": [
    "model = Sequential()\n",
    "\n",
    "model.add(Dense(units=512,input_shape=[len(features)],activation=\"relu\",kernel_initializer=\"he_normal\",kernel_regularizer=regularizers.l2(1e-5)))\n",
    "model.add(Dropout(0.1))\n",
    "model.add(Dense(units=512,activation=\"relu\",kernel_initializer=\"he_normal\",kernel_regularizer=regularizers.l2(1e-5)))\n",
    "model.add(Dropout(0.2))\n",
    "model.add(Dense(units=1,activation=\"linear\"))"
   ]
  },
  {
   "cell_type": "code",
   "execution_count": 17,
   "metadata": {},
   "outputs": [],
   "source": [
    "model.compile(optimizer=\"adam\",loss=\"mse\",metrics=[\"mse\"])"
   ]
  },
  {
   "cell_type": "code",
   "execution_count": 18,
   "metadata": {},
   "outputs": [
    {
     "name": "stdout",
     "output_type": "stream",
     "text": [
      "Epoch 1/20\n",
      "38/38 [==============================] - 0s 12ms/step - loss: 80.0682 - mse: 80.0486 - val_loss: 50.0681 - val_mse: 50.0496\n",
      "Epoch 2/20\n",
      "38/38 [==============================] - 0s 6ms/step - loss: 33.2371 - mse: 33.2192 - val_loss: 25.6455 - val_mse: 25.6280\n",
      "Epoch 3/20\n",
      "38/38 [==============================] - 0s 6ms/step - loss: 19.9341 - mse: 19.9169 - val_loss: 17.6652 - val_mse: 17.6482\n",
      "Epoch 4/20\n",
      "38/38 [==============================] - 0s 8ms/step - loss: 18.6546 - mse: 18.6378 - val_loss: 16.6942 - val_mse: 16.6776\n",
      "Epoch 5/20\n",
      "38/38 [==============================] - 0s 8ms/step - loss: 16.7159 - mse: 16.6993 - val_loss: 17.4343 - val_mse: 17.4178\n",
      "Epoch 6/20\n",
      "38/38 [==============================] - 0s 7ms/step - loss: 16.5333 - mse: 16.5169 - val_loss: 15.9768 - val_mse: 15.9604\n",
      "Epoch 7/20\n",
      "38/38 [==============================] - 0s 6ms/step - loss: 16.2311 - mse: 16.2148 - val_loss: 16.0669 - val_mse: 16.0506\n",
      "Epoch 8/20\n",
      "38/38 [==============================] - 0s 6ms/step - loss: 15.9792 - mse: 15.9629 - val_loss: 17.6445 - val_mse: 17.6283\n",
      "Epoch 9/20\n",
      "38/38 [==============================] - 0s 6ms/step - loss: 16.4337 - mse: 16.4175 - val_loss: 16.6379 - val_mse: 16.6217\n",
      "Epoch 10/20\n",
      "38/38 [==============================] - 0s 6ms/step - loss: 15.6207 - mse: 15.6046 - val_loss: 16.0319 - val_mse: 16.0157\n",
      "Epoch 11/20\n",
      "36/38 [===========================>..] - ETA: 0s - loss: 15.7527 - mse: 15.7366Restoring model weights from the end of the best epoch.\n",
      "38/38 [==============================] - 0s 6ms/step - loss: 15.8599 - mse: 15.8438 - val_loss: 16.2209 - val_mse: 16.2048\n",
      "Epoch 00011: early stopping\n"
     ]
    },
    {
     "data": {
      "text/plain": [
       "<tensorflow.python.keras.callbacks.History at 0x19195125448>"
      ]
     },
     "execution_count": 18,
     "metadata": {},
     "output_type": "execute_result"
    }
   ],
   "source": [
    "model.fit(X_train,Y_train,epochs=20,batch_size=32,validation_data=(X_valid,Y_valid),callbacks=[es])"
   ]
  },
  {
   "cell_type": "markdown",
   "metadata": {},
   "source": [
    "## Evaluation on test dataset"
   ]
  },
  {
   "cell_type": "code",
   "execution_count": 19,
   "metadata": {},
   "outputs": [],
   "source": [
    "# predictions on the test dataset\n",
    "preds = model.predict(X_test)"
   ]
  },
  {
   "cell_type": "code",
   "execution_count": 20,
   "metadata": {},
   "outputs": [],
   "source": [
    "from sklearn.metrics import mean_squared_error"
   ]
  },
  {
   "cell_type": "code",
   "execution_count": 21,
   "metadata": {},
   "outputs": [
    {
     "name": "stdout",
     "output_type": "stream",
     "text": [
      "Daily temperature error:  16.83391021330084\n"
     ]
    }
   ],
   "source": [
    "print(\"Daily temperature error: \",mean_squared_error(Y_test,preds))"
   ]
  },
  {
   "cell_type": "code",
   "execution_count": 22,
   "metadata": {},
   "outputs": [],
   "source": [
    "import matplotlib.pyplot as plt"
   ]
  },
  {
   "cell_type": "code",
   "execution_count": 23,
   "metadata": {},
   "outputs": [
    {
     "data": {
      "image/png": "[encoded data removed]",
      "text/plain": [
       "<Figure size 432x288 with 1 Axes>"
      ]
     },
     "metadata": {
      "needs_background": "light"
     },
     "output_type": "display_data"
    }
   ],
   "source": [
    "plt.plot(X_index,preds,'b--',label=\"prediction\")\n",
    "plt.plot(X_index,Y_test,'y--',label=\"true labels\")\n",
    "plt.legend()\n",
    "plt.title(\"Daily prediction\")\n",
    "plt.xlabel(\"Date\")\n",
    "plt.ylabel(\"Average temperature [°C]\")\n",
    "plt.show()"
   ]
  },
  {
   "cell_type": "code",
   "execution_count": 24,
   "metadata": {},
   "outputs": [],
   "source": [
    "def predict_day(model,day0):\n",
    "    \"\"\"\n",
    "    day0: %Y-%m-%d format (for example: 2020-10-28)\n",
    "    \"\"\"\n",
    "    day = pd.Period(day0)\n",
    "    doy = day.dayofyear /366.0\n",
    "    week = day.week /52.0\n",
    "    year = day.year /2020.0\n",
    "    row = (year,week,doy)\n",
    "    return model.predict([row])[0]"
   ]
  },
  {
   "cell_type": "markdown",
   "metadata": {},
   "source": [
    "## Predictions for:\n",
    "* 2020.10.28.\n",
    "* 2020.11.03.\n",
    "* 2020.11.24."
   ]
  },
  {
   "cell_type": "code",
   "execution_count": 25,
   "metadata": {},
   "outputs": [
    {
     "name": "stdout",
     "output_type": "stream",
     "text": [
      "2020-10-28 [10.022207] °C\n",
      "2020-11-03 [8.845899] °C\n",
      "2020-11-24 [5.182022] °C\n"
     ]
    }
   ],
   "source": [
    "days = [\"2020-10-28\",\"2020-11-03\",\"2020-11-24\"]\n",
    "for day in days:\n",
    "    print(day,predict_day(model,day),\"°C\")"
   ]
  },
  {
   "cell_type": "code",
   "execution_count": null,
   "metadata": {},
   "outputs": [],
   "source": []
  }
 ],
 "metadata": {
  "kernelspec": {
   "display_name": "Python 3",
   "language": "python",
   "name": "python3"
  },
  "language_info": {
   "codemirror_mode": {
    "name": "ipython",
    "version": 3
   },
   "file_extension": ".py",
   "mimetype": "text/x-python",
   "name": "python",
   "nbconvert_exporter": "python",
   "pygments_lexer": "ipython3",
   "version": "3.7.7"
  }
 },
 "nbformat": 4,
 "nbformat_minor": 4
}
