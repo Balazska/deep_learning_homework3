{
 "cells": [
  {
   "cell_type": "code",
   "execution_count": 1,
   "metadata": {},
   "outputs": [],
   "source": [
    "import tensorflow as tf\n",
    "from tensorflow.keras.layers import Dense,Dropout,Activation\n",
    "from tensorflow.keras.models import Sequential"
   ]
  },
  {
   "cell_type": "code",
   "execution_count": 67,
   "metadata": {},
   "outputs": [],
   "source": [
    "import pandas as pd\n",
    "import numpy as np"
   ]
  },
  {
   "cell_type": "markdown",
   "metadata": {},
   "source": [
    "# Homework 3\n",
    "Data from http://idojarasbudapest.hu/archivalt-idojaras\n",
    "\n",
    "Daily weather information collected from 2017-01-01 to 2020-10-24\n",
    "\n",
    "## Approach\n",
    "* Train one model that can predict temperature for any given date"
   ]
  },
  {
   "cell_type": "markdown",
   "metadata": {},
   "source": [
    "## Data preparation\n",
    "\n",
    "[data.txt](./data.txt) contains the raw data I collected from the website\n",
    "\n",
    "[data.csv](./data.csv) contains the data in tab separated format"
   ]
  },
  {
   "cell_type": "code",
   "execution_count": 130,
   "metadata": {},
   "outputs": [],
   "source": [
    "# convert data.txt to tab separated format\n",
    "# DO NOT NEED TO RUN\n",
    "lines = []\n",
    "with open(\"data.txt\") as raw:\n",
    "    line = raw.readline()\n",
    "    while line:\n",
    "        lines.append((line + raw.readline()).replace(\"\\n\",\"\\t\",1))\n",
    "        line = raw.readline()\n",
    "with open(\"data.csv\",\"w\") as csv:\n",
    "    csv.write(\"Day\\tTmax\\tTmin\\tWind[m/s]\\tRain[mm]\\n\")\n",
    "    csv.writelines(lines)"
   ]
  },
  {
   "cell_type": "code",
   "execution_count": 131,
   "metadata": {},
   "outputs": [],
   "source": [
    "# Read the data from the csv\n",
    "df = pd.read_csv('./data.csv',sep='\\t')"
   ]
  },
  {
   "cell_type": "markdown",
   "metadata": {},
   "source": [
    "Columns:\n",
    "* Day: name of the day\n",
    "* Tmax: max temperature of the day\n",
    "* Tmin: min temperature of the day\n",
    "* Wind: wind speed\n",
    "* Rain: amount of rain in mm - in the dataset it stores different value in the earlier dates"
   ]
  },
  {
   "cell_type": "code",
   "execution_count": 132,
   "metadata": {},
   "outputs": [
    {
     "data": {
      "text/html": [
       "<div>\n",
       "<style scoped>\n",
       "    .dataframe tbody tr th:only-of-type {\n",
       "        vertical-align: middle;\n",
       "    }\n",
       "\n",
       "    .dataframe tbody tr th {\n",
       "        vertical-align: top;\n",
       "    }\n",
       "\n",
       "    .dataframe thead th {\n",
       "        text-align: right;\n",
       "    }\n",
       "</style>\n",
       "<table border=\"1\" class=\"dataframe\">\n",
       "  <thead>\n",
       "    <tr style=\"text-align: right;\">\n",
       "      <th></th>\n",
       "      <th>Day</th>\n",
       "      <th>Tmax</th>\n",
       "      <th>Tmin</th>\n",
       "      <th>Wind[m/s]</th>\n",
       "      <th>Rain[mm]</th>\n",
       "    </tr>\n",
       "  </thead>\n",
       "  <tbody>\n",
       "    <tr>\n",
       "      <th>2017.01.01</th>\n",
       "      <td>vasárnap</td>\n",
       "      <td>4.0</td>\n",
       "      <td>-5.0</td>\n",
       "      <td>1.7</td>\n",
       "      <td>Napos</td>\n",
       "    </tr>\n",
       "    <tr>\n",
       "      <th>2017.01.02</th>\n",
       "      <td>hétfő</td>\n",
       "      <td>3.0</td>\n",
       "      <td>-2.0</td>\n",
       "      <td>2.2</td>\n",
       "      <td>Napos</td>\n",
       "    </tr>\n",
       "    <tr>\n",
       "      <th>2017.01.03</th>\n",
       "      <td>kedd</td>\n",
       "      <td>2.0</td>\n",
       "      <td>-3.0</td>\n",
       "      <td>5.0</td>\n",
       "      <td>Napos</td>\n",
       "    </tr>\n",
       "    <tr>\n",
       "      <th>2017.01.04</th>\n",
       "      <td>szerda</td>\n",
       "      <td>2.0</td>\n",
       "      <td>-2.0</td>\n",
       "      <td>5.8</td>\n",
       "      <td>Nehéz hó</td>\n",
       "    </tr>\n",
       "    <tr>\n",
       "      <th>2017.01.05</th>\n",
       "      <td>csütörtök</td>\n",
       "      <td>0.0</td>\n",
       "      <td>-8.0</td>\n",
       "      <td>6.7</td>\n",
       "      <td>Napos</td>\n",
       "    </tr>\n",
       "  </tbody>\n",
       "</table>\n",
       "</div>"
      ],
      "text/plain": [
       "                  Day  Tmax  Tmin  Wind[m/s]  Rain[mm]\n",
       "2017.01.01   vasárnap   4.0  -5.0        1.7     Napos\n",
       "2017.01.02      hétfő   3.0  -2.0        2.2     Napos\n",
       "2017.01.03       kedd   2.0  -3.0        5.0     Napos\n",
       "2017.01.04     szerda   2.0  -2.0        5.8  Nehéz hó\n",
       "2017.01.05  csütörtök   0.0  -8.0        6.7     Napos"
      ]
     },
     "execution_count": 132,
     "metadata": {},
     "output_type": "execute_result"
    }
   ],
   "source": [
    "df.head()"
   ]
  },
  {
   "cell_type": "code",
   "execution_count": 133,
   "metadata": {},
   "outputs": [
    {
     "data": {
      "text/html": [
       "<div>\n",
       "<style scoped>\n",
       "    .dataframe tbody tr th:only-of-type {\n",
       "        vertical-align: middle;\n",
       "    }\n",
       "\n",
       "    .dataframe tbody tr th {\n",
       "        vertical-align: top;\n",
       "    }\n",
       "\n",
       "    .dataframe thead th {\n",
       "        text-align: right;\n",
       "    }\n",
       "</style>\n",
       "<table border=\"1\" class=\"dataframe\">\n",
       "  <thead>\n",
       "    <tr style=\"text-align: right;\">\n",
       "      <th></th>\n",
       "      <th>Day</th>\n",
       "      <th>Tmax</th>\n",
       "      <th>Tmin</th>\n",
       "      <th>Wind[m/s]</th>\n",
       "      <th>Rain[mm]</th>\n",
       "    </tr>\n",
       "  </thead>\n",
       "  <tbody>\n",
       "    <tr>\n",
       "      <th>2020.10.19</th>\n",
       "      <td>hétfő</td>\n",
       "      <td>14.1</td>\n",
       "      <td>8.0</td>\n",
       "      <td>2.8</td>\n",
       "      <td>0</td>\n",
       "    </tr>\n",
       "    <tr>\n",
       "      <th>2020.10.20</th>\n",
       "      <td>kedd</td>\n",
       "      <td>14.8</td>\n",
       "      <td>9.6</td>\n",
       "      <td>4.0</td>\n",
       "      <td>0</td>\n",
       "    </tr>\n",
       "    <tr>\n",
       "      <th>2020.10.21</th>\n",
       "      <td>szerda</td>\n",
       "      <td>16.6</td>\n",
       "      <td>8.9</td>\n",
       "      <td>4.2</td>\n",
       "      <td>0</td>\n",
       "    </tr>\n",
       "    <tr>\n",
       "      <th>2020.10.22</th>\n",
       "      <td>csütörtök</td>\n",
       "      <td>15.7</td>\n",
       "      <td>10.3</td>\n",
       "      <td>3.2</td>\n",
       "      <td>0</td>\n",
       "    </tr>\n",
       "    <tr>\n",
       "      <th>2020.10.23</th>\n",
       "      <td>péntek</td>\n",
       "      <td>16.4</td>\n",
       "      <td>10.8</td>\n",
       "      <td>1.8</td>\n",
       "      <td>0</td>\n",
       "    </tr>\n",
       "  </tbody>\n",
       "</table>\n",
       "</div>"
      ],
      "text/plain": [
       "                  Day  Tmax  Tmin  Wind[m/s] Rain[mm]\n",
       "2020.10.19      hétfő  14.1   8.0        2.8        0\n",
       "2020.10.20       kedd  14.8   9.6        4.0        0\n",
       "2020.10.21     szerda  16.6   8.9        4.2        0\n",
       "2020.10.22  csütörtök  15.7  10.3        3.2        0\n",
       "2020.10.23     péntek  16.4  10.8        1.8        0"
      ]
     },
     "execution_count": 133,
     "metadata": {},
     "output_type": "execute_result"
    }
   ],
   "source": [
    "df.tail()"
   ]
  },
  {
   "cell_type": "markdown",
   "metadata": {},
   "source": [
    "Create important features for training:\n",
    "\n",
    "* Tavg: daily average temperature - this is the target variable\n",
    "* Year\n",
    "* Month\n",
    "* Day0: day of the month\n",
    "* DoY: day of the year (from 1 to 366)\n",
    "* WoY: week of the year (from 1 to 52)"
   ]
  },
  {
   "cell_type": "code",
   "execution_count": 134,
   "metadata": {},
   "outputs": [],
   "source": [
    "df[\"Tavg\"] = (df.Tmax+df.Tmin)/2\n",
    "df[\"Day\"] = df.index\n",
    "df[\"Day_period\"] = df[\"Day\"].apply(lambda day: pd.Period(day))\n",
    "\n",
    "df[\"Year\"] = df[\"Day\"].apply(lambda date: int(date.split(\".\")[0]))\n",
    "df[\"Month\"] = df[\"Day\"].apply(lambda date: int(date.split(\".\")[1]))\n",
    "df[\"Day0\"] = df[\"Day\"].apply(lambda date: int(date.split(\".\")[2]))\n",
    "df[\"DoY\"] = df[\"Day_period\"].apply(lambda period: period.dayofyear)\n",
    "df[\"WoY\"] = df[\"Day_period\"].apply(lambda period: period.week)"
   ]
  },
  {
   "cell_type": "code",
   "execution_count": 135,
   "metadata": {},
   "outputs": [
    {
     "data": {
      "text/html": [
       "<div>\n",
       "<style scoped>\n",
       "    .dataframe tbody tr th:only-of-type {\n",
       "        vertical-align: middle;\n",
       "    }\n",
       "\n",
       "    .dataframe tbody tr th {\n",
       "        vertical-align: top;\n",
       "    }\n",
       "\n",
       "    .dataframe thead th {\n",
       "        text-align: right;\n",
       "    }\n",
       "</style>\n",
       "<table border=\"1\" class=\"dataframe\">\n",
       "  <thead>\n",
       "    <tr style=\"text-align: right;\">\n",
       "      <th></th>\n",
       "      <th>Day</th>\n",
       "      <th>Tmax</th>\n",
       "      <th>Tmin</th>\n",
       "      <th>Wind[m/s]</th>\n",
       "      <th>Rain[mm]</th>\n",
       "      <th>Tavg</th>\n",
       "      <th>Day_period</th>\n",
       "      <th>Year</th>\n",
       "      <th>Month</th>\n",
       "      <th>Day0</th>\n",
       "      <th>DoY</th>\n",
       "      <th>WoY</th>\n",
       "    </tr>\n",
       "  </thead>\n",
       "  <tbody>\n",
       "    <tr>\n",
       "      <th>2017.01.01</th>\n",
       "      <td>2017.01.01</td>\n",
       "      <td>4.0</td>\n",
       "      <td>-5.0</td>\n",
       "      <td>1.7</td>\n",
       "      <td>Napos</td>\n",
       "      <td>-0.5</td>\n",
       "      <td>2017-01-01</td>\n",
       "      <td>2017</td>\n",
       "      <td>1</td>\n",
       "      <td>1</td>\n",
       "      <td>1</td>\n",
       "      <td>52</td>\n",
       "    </tr>\n",
       "    <tr>\n",
       "      <th>2017.01.02</th>\n",
       "      <td>2017.01.02</td>\n",
       "      <td>3.0</td>\n",
       "      <td>-2.0</td>\n",
       "      <td>2.2</td>\n",
       "      <td>Napos</td>\n",
       "      <td>0.5</td>\n",
       "      <td>2017-01-02</td>\n",
       "      <td>2017</td>\n",
       "      <td>1</td>\n",
       "      <td>2</td>\n",
       "      <td>2</td>\n",
       "      <td>1</td>\n",
       "    </tr>\n",
       "    <tr>\n",
       "      <th>2017.01.03</th>\n",
       "      <td>2017.01.03</td>\n",
       "      <td>2.0</td>\n",
       "      <td>-3.0</td>\n",
       "      <td>5.0</td>\n",
       "      <td>Napos</td>\n",
       "      <td>-0.5</td>\n",
       "      <td>2017-01-03</td>\n",
       "      <td>2017</td>\n",
       "      <td>1</td>\n",
       "      <td>3</td>\n",
       "      <td>3</td>\n",
       "      <td>1</td>\n",
       "    </tr>\n",
       "    <tr>\n",
       "      <th>2017.01.04</th>\n",
       "      <td>2017.01.04</td>\n",
       "      <td>2.0</td>\n",
       "      <td>-2.0</td>\n",
       "      <td>5.8</td>\n",
       "      <td>Nehéz hó</td>\n",
       "      <td>0.0</td>\n",
       "      <td>2017-01-04</td>\n",
       "      <td>2017</td>\n",
       "      <td>1</td>\n",
       "      <td>4</td>\n",
       "      <td>4</td>\n",
       "      <td>1</td>\n",
       "    </tr>\n",
       "    <tr>\n",
       "      <th>2017.01.05</th>\n",
       "      <td>2017.01.05</td>\n",
       "      <td>0.0</td>\n",
       "      <td>-8.0</td>\n",
       "      <td>6.7</td>\n",
       "      <td>Napos</td>\n",
       "      <td>-4.0</td>\n",
       "      <td>2017-01-05</td>\n",
       "      <td>2017</td>\n",
       "      <td>1</td>\n",
       "      <td>5</td>\n",
       "      <td>5</td>\n",
       "      <td>1</td>\n",
       "    </tr>\n",
       "  </tbody>\n",
       "</table>\n",
       "</div>"
      ],
      "text/plain": [
       "                   Day  Tmax  Tmin  Wind[m/s]  Rain[mm]  Tavg  Day_period  \\\n",
       "2017.01.01  2017.01.01   4.0  -5.0        1.7     Napos  -0.5  2017-01-01   \n",
       "2017.01.02  2017.01.02   3.0  -2.0        2.2     Napos   0.5  2017-01-02   \n",
       "2017.01.03  2017.01.03   2.0  -3.0        5.0     Napos  -0.5  2017-01-03   \n",
       "2017.01.04  2017.01.04   2.0  -2.0        5.8  Nehéz hó   0.0  2017-01-04   \n",
       "2017.01.05  2017.01.05   0.0  -8.0        6.7     Napos  -4.0  2017-01-05   \n",
       "\n",
       "            Year  Month  Day0  DoY  WoY  \n",
       "2017.01.01  2017      1     1    1   52  \n",
       "2017.01.02  2017      1     2    2    1  \n",
       "2017.01.03  2017      1     3    3    1  \n",
       "2017.01.04  2017      1     4    4    1  \n",
       "2017.01.05  2017      1     5    5    1  "
      ]
     },
     "execution_count": 135,
     "metadata": {},
     "output_type": "execute_result"
    }
   ],
   "source": [
    "# example of the newly created features\n",
    "df.head()"
   ]
  },
  {
   "cell_type": "code",
   "execution_count": 136,
   "metadata": {},
   "outputs": [],
   "source": [
    "#features and target for daily prediction\n",
    "features = [\"Year\",\"WoY\",\"DoY\"]\n",
    "target = \"Tavg\""
   ]
  },
  {
   "cell_type": "code",
   "execution_count": 137,
   "metadata": {},
   "outputs": [],
   "source": [
    "# normalization of the data\n",
    "df[\"Year\"]=df[\"Year\"]/2020.0\n",
    "df[\"WoY\"]=df[\"WoY\"]/52.0\n",
    "df[\"DoY\"]=df[\"DoY\"]/366.0\n",
    "df[\"Month\"] = df[\"Month\"]/12"
   ]
  },
  {
   "cell_type": "code",
   "execution_count": 138,
   "metadata": {},
   "outputs": [],
   "source": [
    "from sklearn.model_selection import train_test_split\n",
    "from sklearn.preprocessing import MinMaxScaler\n",
    "from sklearn.utils import shuffle"
   ]
  },
  {
   "cell_type": "code",
   "execution_count": 139,
   "metadata": {},
   "outputs": [],
   "source": [
    "def train_valid_test_split(df,features,target):\n",
    "    \"\"\"\n",
    "    Split df to train, valid and test data considering the following:\n",
    "    \n",
    "    - X_test should contain the latest dates to test the prediction capability for the future\n",
    "    - X_valid should contain random data to test the prediction for different dates in different seasons etc.\n",
    "    \n",
    "    - returns: train test and validation dataset with training data and labels\n",
    "    \"\"\"\n",
    "    X_train,X_test,Y_train,Y_test = train_test_split(df[features],df[target],test_size=0.05,shuffle=False)\n",
    "    X_train,X_valid,Y_train,Y_valid = train_test_split(X_train,Y_train,test_size=0.1,random_state=42)\n",
    "    X_index=None\n",
    "    try:\n",
    "        # creates a date index for the test dataset (for plotting) - only for daily prediction\n",
    "        X_index = pd.to_datetime(X_test.index)\n",
    "    except:\n",
    "        pass\n",
    "    X_test = X_test.values\n",
    "    Y_test = Y_test.values\n",
    "\n",
    "    X_train = X_train.values\n",
    "    Y_train = Y_train.values\n",
    "\n",
    "    X_valid = X_valid.values\n",
    "    Y_valid = Y_valid.values\n",
    "    return X_train,X_valid,X_test,Y_train,Y_valid,Y_test,X_index"
   ]
  },
  {
   "cell_type": "code",
   "execution_count": 140,
   "metadata": {},
   "outputs": [],
   "source": [
    "# create training and test data\n",
    "X_train,X_valid,X_test,Y_train,Y_valid,Y_test,X_index = train_valid_test_split(df,features,target)"
   ]
  },
  {
   "cell_type": "code",
   "execution_count": 141,
   "metadata": {},
   "outputs": [],
   "source": [
    "from tensorflow.keras import regularizers\n",
    "from tensorflow.keras.callbacks import EarlyStopping"
   ]
  },
  {
   "cell_type": "code",
   "execution_count": 142,
   "metadata": {},
   "outputs": [],
   "source": [
    "# create and early stopping instance\n",
    "es = EarlyStopping(\n",
    "    monitor=\"val_loss\",\n",
    "    patience=5,\n",
    "    verbose=1,\n",
    "    mode=\"auto\",\n",
    "    baseline=None,\n",
    "    restore_best_weights=True,\n",
    ")"
   ]
  },
  {
   "cell_type": "markdown",
   "metadata": {},
   "source": [
    "## Model"
   ]
  },
  {
   "cell_type": "code",
   "execution_count": 143,
   "metadata": {},
   "outputs": [],
   "source": [
    "model = Sequential()\n",
    "\n",
    "model.add(Dense(units=512,input_shape=[len(features)],activation=\"relu\",kernel_initializer=\"he_normal\",kernel_regularizer=regularizers.l2(1e-5)))\n",
    "model.add(Dropout(0.1))\n",
    "model.add(Dense(units=512,activation=\"relu\",kernel_initializer=\"he_normal\",kernel_regularizer=regularizers.l2(1e-5)))\n",
    "model.add(Dropout(0.2))\n",
    "model.add(Dense(units=1,activation=\"linear\"))"
   ]
  },
  {
   "cell_type": "code",
   "execution_count": 144,
   "metadata": {},
   "outputs": [],
   "source": [
    "model.compile(optimizer=\"adam\",loss=\"mse\",metrics=[\"mse\"])"
   ]
  },
  {
   "cell_type": "code",
   "execution_count": 145,
   "metadata": {},
   "outputs": [
    {
     "name": "stdout",
     "output_type": "stream",
     "text": [
      "Epoch 1/20\n",
      "38/38 [==============================] - 0s 8ms/step - loss: 94.4857 - mse: 94.4666 - val_loss: 64.7941 - val_mse: 64.7762\n",
      "Epoch 2/20\n",
      "38/38 [==============================] - 0s 6ms/step - loss: 46.6911 - mse: 46.6737 - val_loss: 28.8083 - val_mse: 28.7915\n",
      "Epoch 3/20\n",
      "38/38 [==============================] - 0s 8ms/step - loss: 24.1941 - mse: 24.1774 - val_loss: 19.2302 - val_mse: 19.2137\n",
      "Epoch 4/20\n",
      "38/38 [==============================] - 0s 7ms/step - loss: 17.8139 - mse: 17.7975 - val_loss: 17.9777 - val_mse: 17.9615\n",
      "Epoch 5/20\n",
      "38/38 [==============================] - 0s 7ms/step - loss: 17.6137 - mse: 17.5975 - val_loss: 16.4872 - val_mse: 16.4711\n",
      "Epoch 6/20\n",
      "38/38 [==============================] - 0s 6ms/step - loss: 16.5174 - mse: 16.5013 - val_loss: 16.6656 - val_mse: 16.6496\n",
      "Epoch 7/20\n",
      "38/38 [==============================] - 0s 6ms/step - loss: 16.5505 - mse: 16.5346 - val_loss: 17.7262 - val_mse: 17.7103\n",
      "Epoch 8/20\n",
      "38/38 [==============================] - 0s 6ms/step - loss: 16.7828 - mse: 16.7669 - val_loss: 16.1410 - val_mse: 16.1252\n",
      "Epoch 9/20\n",
      "38/38 [==============================] - 0s 6ms/step - loss: 16.1790 - mse: 16.1632 - val_loss: 15.9697 - val_mse: 15.9539\n",
      "Epoch 10/20\n",
      "38/38 [==============================] - 0s 6ms/step - loss: 16.5650 - mse: 16.5493 - val_loss: 15.8688 - val_mse: 15.8531\n",
      "Epoch 11/20\n",
      "38/38 [==============================] - 0s 6ms/step - loss: 15.4731 - mse: 15.4574 - val_loss: 16.3199 - val_mse: 16.3041\n",
      "Epoch 12/20\n",
      "38/38 [==============================] - 0s 7ms/step - loss: 16.0746 - mse: 16.0590 - val_loss: 15.7550 - val_mse: 15.7393\n",
      "Epoch 13/20\n",
      "38/38 [==============================] - 0s 6ms/step - loss: 16.4183 - mse: 16.4026 - val_loss: 19.6093 - val_mse: 19.5937\n",
      "Epoch 14/20\n",
      "38/38 [==============================] - 0s 6ms/step - loss: 17.1185 - mse: 17.1029 - val_loss: 15.7226 - val_mse: 15.7070\n",
      "Epoch 15/20\n",
      "38/38 [==============================] - 0s 6ms/step - loss: 15.5820 - mse: 15.5664 - val_loss: 16.5003 - val_mse: 16.4847\n",
      "Epoch 16/20\n",
      "38/38 [==============================] - 0s 7ms/step - loss: 15.8712 - mse: 15.8556 - val_loss: 16.1223 - val_mse: 16.1067\n",
      "Epoch 17/20\n",
      "38/38 [==============================] - 0s 6ms/step - loss: 16.7183 - mse: 16.7028 - val_loss: 16.0839 - val_mse: 16.0683\n",
      "Epoch 18/20\n",
      "38/38 [==============================] - 0s 7ms/step - loss: 15.6111 - mse: 15.5956 - val_loss: 16.1573 - val_mse: 16.1418\n",
      "Epoch 19/20\n",
      "34/38 [=========================>....] - ETA: 0s - loss: 14.5496 - mse: 14.5340Restoring model weights from the end of the best epoch.\n",
      "38/38 [==============================] - 0s 8ms/step - loss: 14.9362 - mse: 14.9207 - val_loss: 15.9405 - val_mse: 15.9250\n",
      "Epoch 00019: early stopping\n"
     ]
    },
    {
     "data": {
      "text/plain": [
       "<tensorflow.python.keras.callbacks.History at 0x1e5c030e1c8>"
      ]
     },
     "execution_count": 145,
     "metadata": {},
     "output_type": "execute_result"
    }
   ],
   "source": [
    "model.fit(X_train,Y_train,epochs=20,batch_size=32,validation_data=(X_valid,Y_valid),callbacks=[es])"
   ]
  },
  {
   "cell_type": "markdown",
   "metadata": {},
   "source": [
    "## Evaluation on test dataset"
   ]
  },
  {
   "cell_type": "code",
   "execution_count": 146,
   "metadata": {},
   "outputs": [],
   "source": [
    "# predictions on the test dataset\n",
    "preds = model.predict(X_test)"
   ]
  },
  {
   "cell_type": "code",
   "execution_count": 147,
   "metadata": {},
   "outputs": [],
   "source": [
    "from sklearn.metrics import mean_squared_error"
   ]
  },
  {
   "cell_type": "code",
   "execution_count": 148,
   "metadata": {},
   "outputs": [
    {
     "name": "stdout",
     "output_type": "stream",
     "text": [
      "Daily temperature error:  14.720464420607767\n"
     ]
    }
   ],
   "source": [
    "print(\"Daily temperature error: \",mean_squared_error(Y_test,preds))"
   ]
  },
  {
   "cell_type": "code",
   "execution_count": 149,
   "metadata": {},
   "outputs": [],
   "source": [
    "import matplotlib.pyplot as plt"
   ]
  },
  {
   "cell_type": "code",
   "execution_count": 150,
   "metadata": {},
   "outputs": [
    {
     "data": {
      "image/png": "[encoded data removed]",
      "text/plain": [
       "<Figure size 432x288 with 1 Axes>"
      ]
     },
     "metadata": {
      "needs_background": "light"
     },
     "output_type": "display_data"
    }
   ],
   "source": [
    "plt.plot(X_index,preds,'b--',label=\"prediction\")\n",
    "plt.plot(X_index,Y_test,'y--',label=\"true labels\")\n",
    "plt.legend()\n",
    "plt.title(\"Daily prediction\")\n",
    "plt.xlabel(\"Date\")\n",
    "plt.ylabel(\"Average temperature [°C]\")\n",
    "plt.show()"
   ]
  },
  {
   "cell_type": "code",
   "execution_count": 153,
   "metadata": {},
   "outputs": [],
   "source": [
    "def predict_day(model,day0):\n",
    "    \"\"\"\n",
    "    day0: %Y-%m-%d format (for example: 2020-10-28)\n",
    "    \"\"\"\n",
    "    day = pd.Period(day0)\n",
    "    doy = day.dayofyear /366.0\n",
    "    week = day.week /52.0\n",
    "    year = day.year /2020.0\n",
    "    row = (year,week,doy)\n",
    "    return model.predict([row])[0]"
   ]
  },
  {
   "cell_type": "markdown",
   "metadata": {},
   "source": [
    "## Predictions for:\n",
    "* 2020.10.28.\n",
    "* 2020.11.03.\n",
    "* 2020.11.24."
   ]
  },
  {
   "cell_type": "code",
   "execution_count": 152,
   "metadata": {},
   "outputs": [
    {
     "name": "stdout",
     "output_type": "stream",
     "text": [
      "2020-10-28 [10.415094] °C\n",
      "2020-11-03 [9.250355] °C\n",
      "2020-11-24 [5.6826944] °C\n"
     ]
    }
   ],
   "source": [
    "days = [\"2020-10-28\",\"2020-11-03\",\"2020-11-24\"]\n",
    "for day in days:\n",
    "    print(day,predict_day(model,day),\"°C\")"
   ]
  },
  {
   "cell_type": "code",
   "execution_count": null,
   "metadata": {},
   "outputs": [],
   "source": []
  }
 ],
 "metadata": {
  "kernelspec": {
   "display_name": "Python 3",
   "language": "python",
   "name": "python3"
  },
  "language_info": {
   "codemirror_mode": {
    "name": "ipython",
    "version": 3
   },
   "file_extension": ".py",
   "mimetype": "text/x-python",
   "name": "python",
   "nbconvert_exporter": "python",
   "pygments_lexer": "ipython3",
   "version": "3.7.7"
  }
 },
 "nbformat": 4,
 "nbformat_minor": 4
}
